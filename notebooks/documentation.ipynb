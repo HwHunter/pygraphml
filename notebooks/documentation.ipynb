{
 "cells": [
  {
   "cell_type": "markdown",
   "metadata": {},
   "source": [
    "# Welcome to the PyGraphML Documentation\n",
    "\n",
    "PyGraphML is a Python library designed to parse GraphML file.\n",
    "\n",
    "## Overview\n",
    "\n",
    "### GraphML\n",
    "\n",
    "[`GraphML`](http://graphml.graphdrawing.org/) is a comprehensive and easy-to-use file format for graphs. It consists of a language core to describe the structural properties of a graph and a flexible extension mechanism to add application-specific data. Its main features include support of:\n",
    "\n",
    "- directed, undirected, and mixed graphs,\n",
    "- hypergraphs,\n",
    "- hierarchical graphs,\n",
    "- graphical representations,\n",
    "- references to external data,\n",
    "- application-specific attribute data, and light-weight parsers.\n",
    "\n",
    "Unlike many other file formats for graphs, GraphML does not use a\n",
    "custom syntax. Instead, it is based on XML and hence ideally suited as\n",
    "a common denominator for all kinds of services generating, archiving,\n",
    "or processing graphs.\n",
    "\n",
    "**Note**: Above description is coming from GraphML official website: http://graphml.graphdrawing.org/.\n",
    "\n",
    "### PyGraphML\n",
    "\n",
    "PyGraphML is a small library designed to parse GraphML files. This\n",
    "library has been written in Python. It's main feature are:\n",
    "\n",
    "- reading GraphML file and getting consistant graph accessible in Python.\n",
    "- write a graph object to a GraphML file.\n",
    "- flexible attributes management.\n",
    "- graph visualization using [`NetworkX`](https://github.com/hadim/pygraphml)"
   ]
  },
  {
   "cell_type": "code",
   "execution_count": 1,
   "metadata": {},
   "outputs": [],
   "source": [
    "%matplotlib inline\n",
    "\n",
    "import tempfile\n",
    "import os\n",
    "import sys\n",
    "\n",
    "sys.path.append(\"../\")\n",
    "\n",
    "from pygraphml import GraphMLParser\n",
    "from pygraphml import Graph"
   ]
  },
  {
   "cell_type": "markdown",
   "metadata": {},
   "source": [
    "## Usage\n",
    "\n",
    "### Create a graph\n",
    "\n",
    "Let's create a simple graph with 5 nodes and some edges between this nodes:"
   ]
  },
  {
   "cell_type": "code",
   "execution_count": 2,
   "metadata": {},
   "outputs": [
    {
     "data": {
      "text/plain": [
       "<pygraphml.edge.Edge at 0x7fe342b7c278>"
      ]
     },
     "execution_count": 2,
     "metadata": {},
     "output_type": "execute_result"
    }
   ],
   "source": [
    "g = Graph()\n",
    "\n",
    "n1 = g.add_node(\"A\")\n",
    "n2 = g.add_node(\"B\")\n",
    "n3 = g.add_node(\"C\")\n",
    "n4 = g.add_node(\"D\")\n",
    "n5 = g.add_node(\"E\")\n",
    "\n",
    "g.add_edge(n1, n3)\n",
    "g.add_edge(n2, n3)\n",
    "g.add_edge(n3, n4)\n",
    "g.add_edge(n3, n5)"
   ]
  },
  {
   "cell_type": "markdown",
   "metadata": {},
   "source": [
    "### Graph search\n",
    "\n",
    "You can use [breadth-first search](http://en.wikipedia.org/wiki/Breadth-first_search>) and [depth-first search](http://en.wikipedia.org/wiki/Depth-first_search>):"
   ]
  },
  {
   "cell_type": "code",
   "execution_count": 3,
   "metadata": {},
   "outputs": [
    {
     "name": "stdout",
     "output_type": "stream",
     "text": [
      "ID: 0\n",
      "label : A\n",
      "\n",
      "ID: 2\n",
      "label : C\n",
      "\n",
      "ID: 3\n",
      "label : D\n",
      "\n",
      "ID: 4\n",
      "label : E\n",
      "\n",
      "ID: 0\n",
      "label : A\n",
      "depth : 0\n",
      "\n",
      "ID: 2\n",
      "label : C\n",
      "depth : 0\n",
      "\n",
      "ID: 3\n",
      "label : D\n",
      "depth : 0\n",
      "\n",
      "ID: 4\n",
      "label : E\n",
      "depth : 1\n",
      "\n"
     ]
    }
   ],
   "source": [
    "# Set a root\n",
    "g.set_root(n1)\n",
    "\n",
    "nodes = g.BFS()\n",
    "for node in nodes:\n",
    "    print(node)\n",
    "\n",
    "nodes = g.DFS_prefix()\n",
    "for node in nodes:\n",
    "    print(node)"
   ]
  },
  {
   "cell_type": "markdown",
   "metadata": {},
   "source": [
    "### Visualize a graph with NetworkX\n",
    "\n",
    "If you have `matplotlib` and NetworkX installed, you can visualize the graph. Note that Visualization is very basic and serves only to quickly check if graph is consistent:"
   ]
  },
  {
   "cell_type": "code",
   "execution_count": 4,
   "metadata": {},
   "outputs": [
    {
     "name": "stderr",
     "output_type": "stream",
     "text": [
      "/home/hadim/local/conda/envs/pg/lib/python3.7/site-packages/networkx/drawing/nx_pylab.py:611: MatplotlibDeprecationWarning: isinstance(..., numbers.Number)\n",
      "  if cb.is_numlike(alpha):\n"
     ]
    },
    {
     "data": {
      "image/png": "[encoded data removed]",
      "text/plain": [
       "<Figure size 432x288 with 1 Axes>"
      ]
     },
     "metadata": {},
     "output_type": "display_data"
    }
   ],
   "source": [
    "g.show()"
   ]
  },
  {
   "cell_type": "markdown",
   "metadata": {},
   "source": [
    "### Write a graph into GraphML file\n",
    "\n",
    "\n",
    "Now you may want to write your graph into a GraphML file. This is a\n",
    "way::"
   ]
  },
  {
   "cell_type": "code",
   "execution_count": 5,
   "metadata": {},
   "outputs": [],
   "source": [
    "# Create graph\n",
    "\n",
    "g = Graph()\n",
    "\n",
    "n1 = g.add_node(\"A\")\n",
    "n2 = g.add_node(\"B\")\n",
    "n3 = g.add_node(\"C\")\n",
    "n4 = g.add_node(\"D\")\n",
    "n5 = g.add_node(\"E\")\n",
    "\n",
    "g.add_edge(n1, n3)\n",
    "g.add_edge(n2, n3)\n",
    "g.add_edge(n3, n4)\n",
    "g.add_edge(n3, n5)\n",
    "\n",
    "fname = tempfile.mktemp()\n",
    "parser = GraphMLParser()\n",
    "parser.write(g, fname)"
   ]
  },
  {
   "cell_type": "code",
   "execution_count": 6,
   "metadata": {},
   "outputs": [
    {
     "name": "stdout",
     "output_type": "stream",
     "text": [
      "<?xml version=\"1.0\" ?>\n",
      "<graphml>\n",
      "    <key attr.name=\"label\" attr.type=\"string\" id=\"label\"/>\n",
      "    <graph edgedefault=\"directed\" id=\"\">\n",
      "        <node id=\"A\"/>\n",
      "        <node id=\"B\"/>\n",
      "        <node id=\"C\"/>\n",
      "        <node id=\"D\"/>\n",
      "        <node id=\"E\"/>\n",
      "        <edge directed=\"false\" source=\"A\" target=\"C\"/>\n",
      "        <edge directed=\"false\" source=\"B\" target=\"C\"/>\n",
      "        <edge directed=\"false\" source=\"C\" target=\"D\"/>\n",
      "        <edge directed=\"false\" source=\"C\" target=\"E\"/>\n",
      "    </graph>\n",
      "</graphml>\n",
      "\n"
     ]
    }
   ],
   "source": [
    "# Visualize the GraphML file\n",
    "\n",
    "with open(fname) as f:\n",
    "    print(f.read())"
   ]
  },
  {
   "cell_type": "markdown",
   "metadata": {},
   "source": [
    "### Read a graph from GraphML file\n",
    "\n",
    "Now let's learn how to read a graph from a GraphML file. We will take the previous generated GraphML file, load it in Python and display it with NetworkX:"
   ]
  },
  {
   "cell_type": "code",
   "execution_count": 7,
   "metadata": {},
   "outputs": [
    {
     "data": {
      "image/png": "[encoded data removed]",
      "text/plain": [
       "<Figure size 432x288 with 1 Axes>"
      ]
     },
     "metadata": {},
     "output_type": "display_data"
    }
   ],
   "source": [
    "parser = GraphMLParser()\n",
    "g = parser.parse(fname)\n",
    "\n",
    "g.show()"
   ]
  },
  {
   "cell_type": "markdown",
   "metadata": {},
   "source": [
    "### Nodes and edges attributes management\n",
    "\n",
    "GraphML format has a flexible attributes management as PyGraphML. To add an attribute to a node or an item, simply use Python power:"
   ]
  },
  {
   "cell_type": "code",
   "execution_count": 8,
   "metadata": {},
   "outputs": [
    {
     "name": "stdout",
     "output_type": "stream",
     "text": [
      "red\n"
     ]
    }
   ],
   "source": [
    "g = Graph()\n",
    "n = g.add_node('label')\n",
    "\n",
    "# Add attribute\n",
    "n['color'] = 'red'\n",
    "\n",
    "# Read attribute\n",
    "print(n['color'])"
   ]
  },
  {
   "cell_type": "markdown",
   "metadata": {},
   "source": [
    "All attributes will be copied in GraphML file. As well when you read a GraphML file, attributes are available by the same way."
   ]
  }
 ],
 "metadata": {
  "kernelspec": {
   "display_name": "Python [conda env:pg]",
   "language": "python",
   "name": "conda-env-pg-py"
  },
  "language_info": {
   "codemirror_mode": {
    "name": "ipython",
    "version": 3
   },
   "file_extension": ".py",
   "mimetype": "text/x-python",
   "name": "python",
   "nbconvert_exporter": "python",
   "pygments_lexer": "ipython3",
   "version": "3.7.1"
  }
 },
 "nbformat": 4,
 "nbformat_minor": 2
}
